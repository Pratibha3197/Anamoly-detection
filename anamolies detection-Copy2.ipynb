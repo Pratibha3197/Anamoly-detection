{
 "cells": [
  {
   "cell_type": "code",
   "execution_count": null,
   "id": "45a36fc3",
   "metadata": {},
   "outputs": [],
   "source": [
    "## Import necessay libraries\n",
    "import matplotlib.pyplot as plt\n",
    "import seaborn as sns\n",
    "import pandas as pd\n",
    "import numpy as np\n",
    "import os\n",
    "from sklearn.ensemble import IsolationForest\n",
    "import pandas as pd\n",
    "# define the directory containing the files\n",
    "dir_path = 'C:/Users/Pratibha/Downloads/happy/Dataset-20230227T042340Z-001/Dataset/s3Files/'\n",
    "\n",
    "# get a list of all the files in the directory\n",
    "file_list = os.listdir(dir_path)\n",
    "\n",
    "# loop over each file\n",
    "for file_name in file_list:\n",
    "    # check if the file is a text file\n",
    "    if file_name.endswith('.txt'):\n",
    "        # read the contents of the file\n",
    "        with open(os.path.join(dir_path, file_name), 'r') as f:\n",
    "            file_contents = f.read()\n"
   ]
  },
  {
   "cell_type": "code",
   "execution_count": null,
   "id": "ba6e4ef3",
   "metadata": {},
   "outputs": [],
   "source": [
    "file_list\n",
    "# file_contents"
   ]
  },
  {
   "cell_type": "code",
   "execution_count": null,
   "id": "1fd57574",
   "metadata": {},
   "outputs": [],
   "source": [
    "# example unstructured numerical data\n",
    "# unstructured_data = '1,2,3\\n4,5,6\\n7,8,9'\n",
    "\n",
    "# split the unstructured data by newline characters to separate rows\n",
    "rows = file_contents.split('\\n')\n",
    "\n",
    "# loop over each row, split it by comma characters to separate values, and convert the values to integers\n",
    "structured_data = []\n",
    "for row in rows:\n",
    "    values = row.split(',')\n",
    "    structured_row = [str(value) for value in values]\n",
    "    structured_data.append(structured_row)\n",
    "\n",
    "# print the structured data\n",
    "print(structured_data)\n"
   ]
  },
  {
   "cell_type": "code",
   "execution_count": null,
   "id": "74601c7e",
   "metadata": {},
   "outputs": [],
   "source": [
    "df=pd.DataFrame(structured_data,columns=[0,'p1','p2','p3',4]).drop(columns=[0,4])\n",
    "df.head()"
   ]
  },
  {
   "cell_type": "code",
   "execution_count": null,
   "id": "7256fcfa",
   "metadata": {},
   "outputs": [],
   "source": [
    "df.dropna(inplace=True)"
   ]
  },
  {
   "cell_type": "code",
   "execution_count": null,
   "id": "39bec21a",
   "metadata": {},
   "outputs": [],
   "source": [
    "# !pip3 install matplotlib\n",
    "# !pip install pillow\n",
    "# !pip install --upgrade pip"
   ]
  },
  {
   "cell_type": "code",
   "execution_count": null,
   "id": "d3f5d9f6",
   "metadata": {},
   "outputs": [],
   "source": [
    "df.info()"
   ]
  },
  {
   "cell_type": "code",
   "execution_count": null,
   "id": "918367b3",
   "metadata": {},
   "outputs": [],
   "source": [
    "df=df.astype('float')\n",
    "df.info()"
   ]
  },
  {
   "cell_type": "code",
   "execution_count": null,
   "id": "6d39243c",
   "metadata": {},
   "outputs": [],
   "source": [
    "df.head()"
   ]
  },
  {
   "cell_type": "code",
   "execution_count": null,
   "id": "234138c0",
   "metadata": {},
   "outputs": [],
   "source": [
    "# import random\n",
    "\n",
    "# # Define the number of columns\n",
    "# num_columns = 1\n",
    "\n",
    "# # Define the number of rows\n",
    "# num_rows = 10000\n",
    "\n",
    "# # Create an empty list to hold the columns\n",
    "# columns = [[] for _ in range(num_columns)]\n",
    "\n",
    "# # Generate random times for each column\n",
    "# for col in range(num_columns):\n",
    "#     for row in range(num_rows):\n",
    "#         # Generate a random time between 0 and 59 seconds\n",
    "#         time_in_seconds = random.randint(0, 59)\n",
    "#         columns[col].append(time_in_seconds)\n",
    "\n"
   ]
  },
  {
   "cell_type": "code",
   "execution_count": null,
   "id": "21243e2e",
   "metadata": {},
   "outputs": [],
   "source": [
    "import random\n",
    "\n",
    "# Define the number of columns\n",
    "num_columns = 1\n",
    "\n",
    "# Define the number of rows\n",
    "num_rows = 10000\n",
    "\n",
    "# Create an empty list to hold the columns\n",
    "columns = [[] for _ in range(num_columns)]\n",
    "\n",
    "# Generate random times for each column\n",
    "for col in range(num_columns):\n",
    "    for row in range(num_rows):\n",
    "        # Generate a random time between 0 and 60 seconds\n",
    "        seconds = random.randint(0, 59)\n",
    "\n",
    "        # Generate a random number of minutes between 0 and 59\n",
    "        minutes = random.randint(0, 59)\n",
    "\n",
    "        # Generate a random number of hours between 0 and 1\n",
    "        hours = random.uniform(0, 1)\n",
    "\n",
    "        # Convert the time to a decimal number of hours and add it to the column\n",
    "        time_in_hours = hours + (minutes / 60) + (seconds / 3600)\n",
    "        columns[col].append(time_in_hours)\n"
   ]
  },
  {
   "cell_type": "code",
   "execution_count": null,
   "id": "f448fb82",
   "metadata": {},
   "outputs": [],
   "source": [
    "df['time_insec']=round(pd.DataFrame(columns).T, 2)"
   ]
  },
  {
   "cell_type": "code",
   "execution_count": null,
   "id": "ac90c354",
   "metadata": {},
   "outputs": [],
   "source": [
    "df.head()"
   ]
  },
  {
   "cell_type": "code",
   "execution_count": null,
   "id": "081e5729",
   "metadata": {},
   "outputs": [],
   "source": [
    "df.info()"
   ]
  },
  {
   "cell_type": "code",
   "execution_count": null,
   "id": "ca058540",
   "metadata": {},
   "outputs": [],
   "source": [
    "# import random\n",
    "\n",
    "# # Generate 1000 rows of time data in seconds\n",
    "# time_data = [random.randint(0, 3600) for _ in range(1000)]\n",
    "# time_data"
   ]
  },
  {
   "cell_type": "code",
   "execution_count": null,
   "id": "0601b349",
   "metadata": {},
   "outputs": [],
   "source": [
    "# Create an anomaly by setting a single value to a very large number (e.g. 99999)\n",
    "anomaly_index = 500\n",
    "d=df['time_insec']\n",
    "d[anomaly_index] = 99999\n"
   ]
  },
  {
   "cell_type": "code",
   "execution_count": null,
   "id": "9935b129",
   "metadata": {},
   "outputs": [],
   "source": [
    "# Define a threshold for anomaly detection (e.g. 1 hour)\n",
    "threshold = 60\n",
    "\n",
    "# Test whether any value in the data is greater than the threshold\n",
    "if any(time > threshold for time in d):\n",
    "    print(\"Anomaly detected!\")\n",
    "else:\n",
    "    print(\"No anomalies detected.\")\n"
   ]
  },
  {
   "cell_type": "code",
   "execution_count": null,
   "id": "bb23815c",
   "metadata": {},
   "outputs": [],
   "source": [
    "data = pd.read_csv('frequencyFeatures.csv')\n",
    "data.head(2)"
   ]
  },
  {
   "cell_type": "code",
   "execution_count": null,
   "id": "f78c9a27",
   "metadata": {},
   "outputs": [],
   "source": [
    "data.columns"
   ]
  },
  {
   "cell_type": "code",
   "execution_count": null,
   "id": "d43971c2",
   "metadata": {},
   "outputs": [],
   "source": [
    "data.groupby('Label')['Timestamp', 'xAcc010Hz', 'xAcc015Hz', 'xAcc020Hz',\n",
    "       'xAcc025Hz', 'xAcc030Hz', 'xAcc035Hz', 'xAcc040Hz','snd2275Hz', 'snd2300Hz', 'snd2325Hz', 'snd2350Hz', 'snd2375Hz',\n",
    "       'snd2400Hz', 'snd2425Hz', 'snd2450Hz', 'snd2475Hz', 'snd2500Hz'].median()"
   ]
  },
  {
   "cell_type": "code",
   "execution_count": null,
   "id": "282ab0b6",
   "metadata": {},
   "outputs": [],
   "source": [
    "data.shape\n",
    "df['time_insec'].mean()"
   ]
  },
  {
   "cell_type": "code",
   "execution_count": null,
   "id": "57885706",
   "metadata": {},
   "outputs": [],
   "source": [
    "df.median()"
   ]
  },
  {
   "cell_type": "code",
   "execution_count": null,
   "id": "1409bc20",
   "metadata": {},
   "outputs": [],
   "source": [
    "df[df['time_insec']==df['time_insec'].median()].mean()"
   ]
  },
  {
   "cell_type": "code",
   "execution_count": null,
   "id": "d081e419",
   "metadata": {},
   "outputs": [],
   "source": [
    "\n",
    "# import graph objects as \"go\"\n",
    "import plotly.graph_objs as go\n",
    "import plotly.express as px\n",
    "\n",
    "fig = px.scatter(df,x = 'p2',y = 'p3',\n",
    "             title = 'phases',\n",
    "            template = \"plotly_dark\")\n",
    "\n",
    "fig.show()"
   ]
  },
  {
   "cell_type": "code",
   "execution_count": null,
   "id": "3381be5a",
   "metadata": {},
   "outputs": [],
   "source": [
    "fig = px.scatter(df,x = 'p1',y = 'p3',\n",
    "             title = 'phases',\n",
    "            template = \"plotly_dark\")\n",
    "\n",
    "fig.show()"
   ]
  },
  {
   "cell_type": "code",
   "execution_count": null,
   "id": "126cabc4",
   "metadata": {},
   "outputs": [],
   "source": [
    "fig = px.scatter(df,x = 'p1',y = 'p2',\n",
    "             title = 'phases',\n",
    "            template = \"plotly_dark\")\n",
    "\n",
    "fig.show()"
   ]
  },
  {
   "cell_type": "code",
   "execution_count": null,
   "id": "63180858",
   "metadata": {},
   "outputs": [],
   "source": [
    "print(\"Missing Data is\", data.isnull().sum().sum())\n",
    "data.info()"
   ]
  },
  {
   "cell_type": "code",
   "execution_count": null,
   "id": "ccbdaedd",
   "metadata": {},
   "outputs": [],
   "source": [
    "y= data.iloc[:,1]\n",
    "data=data.iloc[:,2:]\n",
    "y.unique()"
   ]
  },
  {
   "cell_type": "code",
   "execution_count": null,
   "id": "5e466fbc",
   "metadata": {},
   "outputs": [],
   "source": [
    "data.head()"
   ]
  },
  {
   "cell_type": "code",
   "execution_count": null,
   "id": "dc53b515",
   "metadata": {},
   "outputs": [],
   "source": [
    "data.info()\n"
   ]
  },
  {
   "cell_type": "code",
   "execution_count": null,
   "id": "0bb068aa",
   "metadata": {},
   "outputs": [],
   "source": []
  },
  {
   "cell_type": "code",
   "execution_count": null,
   "id": "3cb7620a",
   "metadata": {},
   "outputs": [],
   "source": [
    "model= IsolationForest(n_estimators=100, max_samples='auto', contamination= float(0.2), max_features=1.0)"
   ]
  },
  {
   "cell_type": "code",
   "execution_count": null,
   "id": "4cfefbbc",
   "metadata": {},
   "outputs": [],
   "source": [
    "model.fit(df.iloc[:,0:3])"
   ]
  },
  {
   "cell_type": "code",
   "execution_count": null,
   "id": "aac7762b",
   "metadata": {},
   "outputs": [],
   "source": [
    "df['anomaliesscore']= model.decision_function(df.iloc[:,0:3])\n",
    "df['anomaly']= model.predict(df.iloc[:,0:3])\n",
    "df"
   ]
  },
  {
   "cell_type": "code",
   "execution_count": null,
   "id": "4cf29291",
   "metadata": {},
   "outputs": [],
   "source": [
    "df[['anomaliesscore','anomaly']].describe().T"
   ]
  },
  {
   "cell_type": "code",
   "execution_count": null,
   "id": "8034a2e1",
   "metadata": {},
   "outputs": [],
   "source": [
    "\n",
    "from sklearn.cluster import KMeans\n",
    "\n",
    "# load the data\n",
    "# data = pd.read_csv('machine_data.csv')\n",
    "\n",
    "# preprocess the data\n",
    "X = df.drop(columns=['time_insec','anomaliesscore','anomaly'], axis=1) # drop the machine id column\n",
    "X_norm = (X - X.mean()) / X.std() # normalize the data\n"
   ]
  },
  {
   "cell_type": "code",
   "execution_count": null,
   "id": "e957c1c6",
   "metadata": {},
   "outputs": [],
   "source": []
  },
  {
   "cell_type": "code",
   "execution_count": null,
   "id": "2478d525",
   "metadata": {},
   "outputs": [],
   "source": [
    "from sklearn.cluster import KMeans\n",
    "wcss = []\n",
    "\n",
    "for i in range(1, 21):\n",
    "    kmeans = KMeans(n_clusters = i, init = 'k-means++', \n",
    "                    max_iter = 300, n_init = 10, random_state = 0).fit(X_norm)\n",
    "    wcss.append(kmeans.inertia_)\n",
    "\n",
    "# Plotting the results onto a line graph, \n",
    "# `allowing us to observe 'The elbow'\n",
    "plt.plot(range(1, 21), wcss,marker='o',color='b')\n",
    "plt.title('The elbow method')\n",
    "plt.xlabel('Number of clusters')\n",
    "plt.ylabel('WCSS') # Within cluster sum of squares\n",
    "plt.grid()\n",
    "plt.show()\n"
   ]
  },
  {
   "cell_type": "markdown",
   "id": "a9349950",
   "metadata": {},
   "source": [
    "#### Number of clusters=6"
   ]
  },
  {
   "cell_type": "code",
   "execution_count": null,
   "id": "5bc38ff8",
   "metadata": {},
   "outputs": [],
   "source": [
    "# Applying kmeans to the dataset / Creating the kmeans classifier\n",
    "kmeans = KMeans(n_clusters = 6, init = 'k-means++',\n",
    "                max_iter = 300, n_init = 10, random_state = 0)\n",
    "y_kmeans = kmeans.fit_predict(X)"
   ]
  },
  {
   "cell_type": "code",
   "execution_count": null,
   "id": "52f8ce55",
   "metadata": {},
   "outputs": [],
   "source": [
    "# identify potential machine failures\n",
    "cluster_centers = kmeans.cluster_centers_\n",
    "distances = np.linalg.norm(X_norm - cluster_centers[kmeans.labels_], axis=1) # calculate distances to cluster centers\n",
    "df['distance'] = distances # add distance column to data"
   ]
  },
  {
   "cell_type": "code",
   "execution_count": null,
   "id": "1dc15258",
   "metadata": {},
   "outputs": [],
   "source": [
    "round(df['distance'].median())"
   ]
  },
  {
   "cell_type": "code",
   "execution_count": null,
   "id": "041c1f99",
   "metadata": {},
   "outputs": [],
   "source": [
    "potential_failures = df[df['distance'] > round(df['distance'].median())] # identify machines with distance > 2"
   ]
  },
  {
   "cell_type": "code",
   "execution_count": null,
   "id": "a24f49d1",
   "metadata": {},
   "outputs": [],
   "source": [
    "potential_failures"
   ]
  },
  {
   "cell_type": "code",
   "execution_count": null,
   "id": "534b16de",
   "metadata": {},
   "outputs": [],
   "source": [
    "sns.set_style(\"whitegrid\") \n",
    "sns.FacetGrid(df,hue='anomaly',height = 6).map(plt.scatter,'p1','p2')\n",
    "plt.scatter(kmeans.cluster_centers_[:, 0], kmeans.cluster_centers_[:,1], \n",
    "            s = 100, c = 'yellow', label = 'Centroids')\n",
    "\n",
    "plt.legend()\n"
   ]
  },
  {
   "cell_type": "code",
   "execution_count": null,
   "id": "8abad274",
   "metadata": {},
   "outputs": [],
   "source": [
    "sns.set_style(\"whitegrid\") \n",
    "sns.FacetGrid(df,hue='anomaly',height = 6).map(plt.scatter,'p2','p3')\n",
    "plt.scatter(kmeans.cluster_centers_[:, 1], kmeans.cluster_centers_[:,-1], \n",
    "            s = 100, c = 'yellow', label = 'Centroids')\n",
    "\n",
    "plt.legend()"
   ]
  },
  {
   "cell_type": "code",
   "execution_count": null,
   "id": "e4944da5",
   "metadata": {},
   "outputs": [],
   "source": [
    "sns.set_style(\"whitegrid\") \n",
    "sns.FacetGrid(df,hue='anomaly',height = 6).map(plt.scatter,'p1','p3')\n",
    "plt.scatter(kmeans.cluster_centers_[:, 1], kmeans.cluster_centers_[:,2], \n",
    "            s = 100, c = 'yellow', label = 'Centroids')\n",
    "\n",
    "plt.legend()"
   ]
  },
  {
   "cell_type": "code",
   "execution_count": null,
   "id": "7f255e46",
   "metadata": {},
   "outputs": [],
   "source": []
  },
  {
   "cell_type": "code",
   "execution_count": null,
   "id": "a5230d70",
   "metadata": {},
   "outputs": [],
   "source": [
    "pd.DataFrame(y_kmeans).value_counts()"
   ]
  },
  {
   "cell_type": "code",
   "execution_count": null,
   "id": "ed1aaf40",
   "metadata": {},
   "outputs": [],
   "source": [
    "df['anomaly'].value_counts()"
   ]
  },
  {
   "cell_type": "code",
   "execution_count": null,
   "id": "eed7daf3",
   "metadata": {},
   "outputs": [],
   "source": [
    "y_kmeans\n",
    "relabel = np.choose(kmeans.labels_, [1, 1, 1,1,-1, -1]).astype(np.int64)\n",
    "relabel\n",
    "from sklearn.metrics import confusion_matrix,classification_report\n",
    "print(classification_report(df['anomaly'],relabel))"
   ]
  },
  {
   "cell_type": "code",
   "execution_count": null,
   "id": "27cc61fe",
   "metadata": {},
   "outputs": [],
   "source": [
    "cluster_data = []\n",
    "for i in range(kmeans.n_clusters):\n",
    "    cluster_data.append(X[kmeans.labels_ == i])"
   ]
  },
  {
   "cell_type": "code",
   "execution_count": null,
   "id": "68700650",
   "metadata": {},
   "outputs": [],
   "source": [
    "cluster_data"
   ]
  },
  {
   "cell_type": "code",
   "execution_count": null,
   "id": "8b89f408",
   "metadata": {},
   "outputs": [],
   "source": [
    "kmeans"
   ]
  },
  {
   "cell_type": "code",
   "execution_count": null,
   "id": "dd7844a7",
   "metadata": {},
   "outputs": [],
   "source": [
    "df['cluster'] = y_kmeans\n",
    "df.head()"
   ]
  },
  {
   "cell_type": "code",
   "execution_count": null,
   "id": "defd4a39",
   "metadata": {},
   "outputs": [],
   "source": [
    "len(df)*0.5"
   ]
  },
  {
   "cell_type": "code",
   "execution_count": null,
   "id": "da8f677c",
   "metadata": {},
   "outputs": [],
   "source": [
    "from scipy import signal\n",
    "# # Filter data\n",
    "# order = 3\n",
    "# low_pass_freq = 1000\n",
    "# sampling_freq = 10000\n",
    "# b, a = signal.butter(order, low_pass_freq/(sampling_freq/2), 'lowpass')\n",
    "# padlen = 2 * len(df.iloc[:500,0:3]) - 1\n",
    "# filtered_data = signal.filtfilt(b, a, df.iloc[:500,0:3], padlen=padlen)\n",
    "\n",
    "# # Compute FFT\n",
    "# n = len(filtered_data)\n",
    "# fft_data = abs(np.fft.fft(filtered_data))/n\n",
    "# freq = np.fft.fftfreq(n, d=1/sampling_freq)\n",
    "# freq = freq[:n//2]\n",
    "\n",
    "# # Plot FFT\n",
    "# plt.plot(freq, fft_data[:, 0][:n//2])\n",
    "# plt.xlabel('Frequency (Hz)')\n",
    "# plt.ylabel('Amplitude')\n",
    "# plt.show()\n"
   ]
  },
  {
   "cell_type": "code",
   "execution_count": null,
   "id": "15536eac",
   "metadata": {},
   "outputs": [],
   "source": [
    "# Perform MCSA analysis\n",
    "window_size = 1024\n",
    "fft_size = 1024\n",
    "overlap = 0.5\n",
    "\n",
    "current_rms = []\n",
    "for i in range(0, len(df.iloc[:1000,0:2]), window_size):\n",
    "    window = data[i:i+window_size]\n",
    "    fft = np.fft.fft(window, fft_size)\n",
    "    freqs = np.fft.fftfreq(fft_size, 1 / len(window))\n",
    "    rms = np.sqrt(np.mean(np.abs(fft)**2, axis=1))\n",
    "    current_rms.append(rms)\n",
    "\n",
    "current_rms = np.array(current_rms)\n",
    "\n",
    "# Plot MCSA results\n",
    "plt.figure(figsize=(10, 5))\n",
    "plt.imshow(current_rms.T, aspect='auto', cmap='jet', origin='lower')\n",
    "plt.xlabel('Window index')\n",
    "plt.ylabel('Frequency (Hz)')\n",
    "plt.colorbar()\n",
    "plt.title('Motor current signature analysis')\n",
    "plt.show()\n",
    "\n",
    "# # Load vibration data\n",
    "# vibration_data = pd.read_csv('vibration_data.csv')\n",
    "\n",
    "# Perform model-based VI analysis\n",
    "from sklearn.decomposition import PCA\n",
    "\n",
    "pca = PCA(n_components=2)\n",
    "vibration_pca = pca.fit_transform(df)\n",
    "\n",
    "# Plot model-based VI results\n",
    "plt.figure(figsize=(10, 5))\n",
    "plt.scatter(vibration_pca[:, 0], vibration_pca[:, 1])\n",
    "plt.xlabel('Principal component 1')\n",
    "plt.ylabel('Principal component 2')\n",
    "plt.title('Model-based vibration analysis')\n",
    "plt.show()\n",
    "\n",
    "# Predict machine failure\n",
    "threshold_current = 0.5\n",
    "threshold_vibration = 2.0\n",
    "\n",
    "faults_current = np.where(current_rms > threshold_current)\n",
    "faults_vibration = np.where(vibration_pca > threshold_vibration)\n",
    "\n",
    "if len(faults_current[0]) > 0 or len(faults_vibration[0]) > 0:\n",
    "    print('Machine failure predicted.')\n",
    "else:\n",
    "    print('Machine failure not predicted.')\n"
   ]
  },
  {
   "cell_type": "code",
   "execution_count": null,
   "id": "4986fbcb",
   "metadata": {},
   "outputs": [],
   "source": [
    "from scipy.signal import butter, lfilter\n",
    "\n",
    "# Set filter parameters\n",
    "order = 2\n",
    "low_pass_freq = 100\n",
    "sampling_freq = 1000\n",
    "\n",
    "# Compute filter coefficients\n",
    "nyquist_freq = 0.5 * sampling_freq\n",
    "cutoff_freq = low_pass_freq / nyquist_freq\n",
    "b, a = butter(order, cutoff_freq, btype='lowpass', analog=False)\n",
    "\n",
    "# Filter data\n",
    "filtered_data = lfilter(b, a, df[['p1', 'p2', 'p3']], axis=0)\n",
    "\n",
    "# Compute FFT\n",
    "n = len(filtered_data)\n",
    "fft_data = abs(np.fft.fft(filtered_data)) / n\n",
    "freq = np.fft.fftfreq(n, d=1 / sampling_freq)\n",
    "freq = freq[:n // 2]\n",
    "\n",
    "# Plot FFT\n",
    "plt.plot(freq, fft_data[:, 0][:n // 2])\n",
    "plt.xlabel('Frequency (Hz)')\n",
    "plt.ylabel('Amplitude')\n",
    "plt.show()\n"
   ]
  },
  {
   "cell_type": "code",
   "execution_count": null,
   "id": "57ecc3a8",
   "metadata": {},
   "outputs": [],
   "source": [
    "current_data = pd.read_csv('SynchronousMachine.csv')\n",
    "current_data.head(2)"
   ]
  },
  {
   "cell_type": "code",
   "execution_count": null,
   "id": "069112a1",
   "metadata": {},
   "outputs": [],
   "source": [
    "current_data.shape"
   ]
  },
  {
   "cell_type": "markdown",
   "id": "cc66d175",
   "metadata": {},
   "source": [
    "- Attribute Information\n",
    "\n",
    "    1) I_y: Load Current\n",
    "    \n",
    "    2) PF: Power factor\n",
    "    \n",
    "    3) e_PF: Power factor error\n",
    "    \n",
    "    4) d_if: Changing of excitation current of synchronous machine\n",
    "    \n",
    "    5) I_f: Excitation current of synchronous machine"
   ]
  },
  {
   "cell_type": "code",
   "execution_count": null,
   "id": "2af09b4a",
   "metadata": {},
   "outputs": [],
   "source": [
    "# Perform MCSA analysis\n",
    "window_size = 1024\n",
    "fft_size = 1024\n",
    "overlap = 0.5\n",
    "current_data=df.iloc[:1000,0:3]\n",
    "current_rms = []\n",
    "for i in range(0, len(current_data), window_size):\n",
    "    window = current_data[i:i+window_size]\n",
    "    fft = np.fft.fft(window, fft_size)\n",
    "    freqs = np.fft.fftfreq(fft_size, 1 / len(window))\n",
    "    rms = np.sqrt(np.mean(np.abs(fft)**2, axis=1))\n",
    "    current_rms.append(rms)\n",
    "\n",
    "current_rms = np.array(current_rms)\n",
    "\n",
    "# Plot MCSA results\n",
    "plt.figure(figsize=(10, 5))\n",
    "plt.imshow(current_rms.T, aspect='auto', cmap='jet', origin='lower')\n",
    "plt.xlabel('Window index')\n",
    "plt.ylabel('Frequency (Hz)')\n",
    "plt.colorbar()\n",
    "plt.title('Motor current signature analysis')\n",
    "plt.show()\n",
    "\n",
    "# # Load vibration data\n",
    "# vibration_data = pd.read_csv('vibration_data.csv')\n",
    "\n",
    "# Perform model-based VI analysis\n",
    "from sklearn.decomposition import PCA\n",
    "\n",
    "pca = PCA(n_components=2)\n",
    "vibration_pca = pca.fit_transform(current_data)\n",
    "\n",
    "# Plot model-based VI results\n",
    "plt.figure(figsize=(10, 5))\n",
    "plt.scatter(vibration_pca[:, 0], vibration_pca[:, 1])\n",
    "plt.xlabel('Principal component 1')\n",
    "plt.ylabel('Principal component 2')\n",
    "plt.title('Model-based vibration analysis')\n",
    "plt.show()\n",
    "\n",
    "# Predict machine failure\n",
    "threshold_current = 0.5\n",
    "threshold_vibration = 2.0\n",
    "\n",
    "faults_current = np.where(current_rms > threshold_current)\n",
    "faults_vibration = np.where(vibration_pca > threshold_vibration)\n",
    "\n",
    "if len(faults_current[0]) > 0 or len(faults_vibration[0]) > 0:\n",
    "    print('Machine failure predicted.')\n",
    "else:\n",
    "    print('Machine failure not predicted.')\n"
   ]
  },
  {
   "cell_type": "code",
   "execution_count": null,
   "id": "b20e0d5b",
   "metadata": {},
   "outputs": [],
   "source": []
  },
  {
   "cell_type": "code",
   "execution_count": null,
   "id": "4f3f94b2",
   "metadata": {},
   "outputs": [],
   "source": []
  },
  {
   "cell_type": "code",
   "execution_count": null,
   "id": "70cff630",
   "metadata": {},
   "outputs": [],
   "source": []
  }
 ],
 "metadata": {
  "kernelspec": {
   "display_name": "Python 3 (ipykernel)",
   "language": "python",
   "name": "python3"
  },
  "language_info": {
   "codemirror_mode": {
    "name": "ipython",
    "version": 3
   },
   "file_extension": ".py",
   "mimetype": "text/x-python",
   "name": "python",
   "nbconvert_exporter": "python",
   "pygments_lexer": "ipython3",
   "version": "3.9.12"
  }
 },
 "nbformat": 4,
 "nbformat_minor": 5
}
